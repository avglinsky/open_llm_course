{
 "cells": [
  {
   "cell_type": "markdown",
   "id": "444ebb89-03b2-44ab-851d-4c8659749a4a",
   "metadata": {},
   "source": [
    "# Регулярные выражения"
   ]
  },
  {
   "cell_type": "markdown",
   "id": "7b65e01f-114c-49f1-8c0f-5119753e149d",
   "metadata": {},
   "source": [
    "История развития алгоритмов регулярных выражений (regex) связана с развитием теории формальных языков и компьютерных наук. Вот краткий обзор ключевых этапов в этой истории:\n",
    "\n",
    "1. **Ранние шаги (1950-1960-е годы):** Первые работы по регулярным выражениям начались в 1950-х и 1960-х годах. Символика, используемая в регулярных выражениях, была в значительной степени стандартизирована.\n",
    "\n",
    "2. **Алгоритм Томпсона (1960-е годы):** Кеннет И. Томпсон разработал алгоритм конструирования конечного автомата из регулярного выражения. Этот алгоритм стал основой для многих реализаций регулярных выражений и использовался в инструментах, таких как grep и sed.\n",
    "\n",
    "3. **POSIX (1980-е годы):** Стандарт POSIX внёс стандартизацию в мир регулярных выражений. Этот стандарт определил, как должны работать регулярные выражения в системах Unix и стал основой для регулярных выражений в многих языках программирования и инструментах.\n",
    "\n",
    "4. **Perl-Compatible Regular Expressions (PCRE) (1990-е годы):** PCRE — это библиотека регулярных выражений, разработанная для языка Perl. Она предоставляет расширенные возможности и стала популярной в других языках программирования.\n",
    "\n",
    "5. **Развитие регулярных выражений в языках программирования:** Регулярные выражения стали встроенными функциональными возможностями во многих языках программирования, таких как Python, JavaScript, Ruby, и других. Разработчики добавляли улучшения и расширения для работы с регулярными выражениями в контексте своих языков.\n",
    "\n",
    "6. **Регулярные выражения в инструментах поиска и обработки текста:** Регулярные выражения широко применяются в инструментах для поиска и обработки текста, таких как grep, sed, awk и многих других. Эти инструменты стали неотъемлемой частью администрирования систем и обработки данных.\n",
    "\n",
    "7. **Развитие библиотек и онлайн-ресурсов:** В интернете появились многочисленные онлайн-ресурсы и библиотеки, которые помогают разработчикам создавать и тестировать регулярные выражения.\n",
    "\n",
    "8. **Регулярные выражения в современных языках программирования:** Современные языки программирования, такие как Python и JavaScript, предоставляют богатые библиотеки для работы с регулярными выражениями, что делает их мощным инструментом для обработки текста.\n",
    "\n",
    "История развития алгоритмов регулярных выражений отражает их важность и широкое применение в области обработки текста и поиска данных в компьютерных науках и разработке программного обеспечения.ашего NLP-проекта."
   ]
  },
  {
   "cell_type": "markdown",
   "id": "97631753-b976-4e31-aaee-e32f75f9b183",
   "metadata": {},
   "source": [
    "# Лучшие практики\n",
    "Регулярные выражения (regex) - мощный инструмент для обработки и поиска текста в Python. Однако они могут быть сложными для понимания и поддержания, поэтому важно соблюдать лучшие практики при работе с ними. Вот несколько советов:\n",
    "\n",
    "1. **Импортирование модуля `re`:** Для работы с регулярными выражениями в Python используется модуль `re`. В начале вашего скрипта или ноутбука импортируйте его следующим образом:\n",
    "\n",
    "   ```python\n",
    "   import re\n",
    "   ```\n",
    "\n",
    "2. **Использование символа `r` перед строкой с регулярным выражением:** В Python лучше всего использовать сырые строки (raw strings) при определении регулярных выражений, чтобы избежать неожиданных экранирований символов. Например:\n",
    "\n",
    "   ```python\n",
    "   pattern = r'\\d+'  # Это сырая строка\n",
    "   ```\n",
    "\n",
    "3. **Компиляция регулярных выражений:** Если вы собираетесь использовать одно и то же регулярное выражение множество раз, то лучше скомпилировать его с помощью `re.compile()`. Это может улучшить производительность.\n",
    "\n",
    "   ```python\n",
    "   import re\n",
    "\n",
    "   pattern = re.compile(r'\\d+')\n",
    "   result = pattern.search(text)\n",
    "   ```\n",
    "\n",
    "4. **Использование функций `match()` и `search()`:** `match()` и `search()` - это две основные функции для поиска регулярных выражений в строках. `match()` ищет только в начале строки, в то время как `search()` ищет по всей строке.\n",
    "\n",
    "   ```python\n",
    "   import re\n",
    "\n",
    "   pattern = re.compile(r'\\d+')\n",
    "\n",
    "   # Используйте match() для поиска в начале строки\n",
    "   result = pattern.match(text)\n",
    "\n",
    "   # Используйте search() для поиска по всей строке\n",
    "   result = pattern.search(text)\n",
    "   ```\n",
    "\n",
    "5. **Использование групп:** Вы можете использовать группы в регулярных выражениях, чтобы извлекать определенные части текста. Используйте круглые скобки для создания групп.\n",
    "\n",
    "   ```python\n",
    "   import re\n",
    "\n",
    "   pattern = re.compile(r'(\\d+)-(\\d+)')\n",
    "   match = pattern.match('2023-09-18')\n",
    "   \n",
    "   # Извлекаем группы\n",
    "   if match:\n",
    "       start, end = match.groups()\n",
    "   ```\n",
    "\n",
    "6. **Использование методов `findall()` и `finditer()`:** Если вам нужно найти все вхождения регулярного выражения в строке, используйте `findall()` или `finditer()`:\n",
    "\n",
    "   ```python\n",
    "   import re\n",
    "\n",
    "   pattern = re.compile(r'\\d+')\n",
    "   results = pattern.findall(text)  # Возвращает список всех найденных совпадений\n",
    "\n",
    "   # Или используйте finditer() для получения итерируемого объекта с объектами совпадений\n",
    "   results = pattern.finditer(text)\n",
    "   for match in results:\n",
    "       print(match.group())\n",
    "   ```\n",
    "\n",
    "7. **Использование метода `sub()`:** Заменить в строке string все непересекающиеся шаблоны pattern на repl:\n",
    "\n",
    "   ```python\n",
    "   import re\n",
    "\n",
    "    text = \"one two one two one\"\n",
    "    \n",
    "    pattern = r'one'    \n",
    "    \n",
    "replacement = 'thre '        \n",
    "    \n",
    "\n",
    "# Заменяет только первое вхождение \"one\" нthr   e    e\"\n",
    "new_text = re.sub(pattern, replacement, text,     t    =1)\n",
    "print(newu\n",
    "    ```=0)\t;\n",
    "\n",
    "7. **Документация и тестирование:** Регулярные выражения могут быть запутанными, поэтому всегда читайте документацию и тестируйте их на различных входных данных, чтобы убедиться в правильнос9и работы.\n",
    "\n",
    "8. **Оптимизация производительности:** Регулярные выражения могут быть медленными для больших строк. Если производительность важна, рассмотрите возможность оптимизации регулярных выражений или использования других методов обработ10и текста.\n",
    "\n",
    "9. **Использование онлайн-ресурсов:** Существует множество онлайн-ресурсов и инструментов, таких как regex101.com, для тестирования и отладки регулярных re.ASCII\tПо умолчанию \\w, \\W, \\b, \\B, \\d, \\D, \\s, \\S соответствуют\n",
    "все юникодные символы с соответствующим качеством.\n",
    "Например, \\d соответствуют не только арабские цифры, но и вот такие: ٠١٢٣٤٥٦٧٨٩.\n",
    "\n",
    "re.ASCII ускоряет работу, если все соответствия лежат внутри ASCII.\n",
    "\n",
    "re.IGNORECASE\tНе различать заглавные и маленькие буквы. Работает медленнее, но иногда удобно\n",
    "\n",
    "re.MULTILINE\tСпециальные символы ^ и $ соответствуют началу и концу каждой стрre.DOTALL По умолчанию символ `\\n` (конец строки) не соответствует символу точки (`.`) в регулярных выражениях. С флагом re.DOTALL точка (`.`) будет соответствовать любому символу, включая `\\n`."
   ]
  },
  {
   "cell_type": "code",
   "execution_count": 1,
   "id": "5a1ea073-0599-4dfc-8fcf-79252fa29992",
   "metadata": {},
   "outputs": [
    {
     "name": "stdout",
     "output_type": "stream",
     "text": [
      "Совпадение найдено: Line 1\n",
      "Line 2\n",
      "Line 3\n"
     ]
    }
   ],
   "source": [
    "import re\n",
    "\n",
    "text = \"Line 1\\nLine 2\\nLine 3\"\n",
    "pattern = re.compile(r'.*', re.DOTALL)\n",
    "\n",
    "match = pattern.search(text)\n",
    "if match:\n",
    "    print(\"Совпадение найдено:\", match.group())"
   ]
  },
  {
   "cell_type": "code",
   "execution_count": 2,
   "id": "8e03a105-6e1c-4567-bdeb-06e13cb268dd",
   "metadata": {},
   "outputs": [
    {
     "name": "stdout",
     "output_type": "stream",
     "text": [
      "Совпадение найдено\n"
     ]
    }
   ],
   "source": [
    "# Регулярные выражения в Python. https://habr.com/ru/articles/349860/\n",
    "# Обратите внимание, что в регулярных выражениях обратный слэш `\\` часто экранируется как `\\\\`, чтобы избежать конфликта с \n",
    "# экранированием в строках Python.\n",
    "\n",
    "# Регулярка: `simple text`\n",
    "#    - Смысл: В точности текст \"simple text\"\n",
    "\n",
    "import re\n",
    "\n",
    "text = \"simple text\"\n",
    "pattern = r'simple text'\n",
    "\n",
    "if re.search(pattern, text):\n",
    "   print(\"Совпадение найдено\")"
   ]
  },
  {
   "cell_type": "code",
   "execution_count": 3,
   "id": "5b10f079-d7b9-4849-bbf1-d3d38437fd8e",
   "metadata": {},
   "outputs": [
    {
     "name": "stdout",
     "output_type": "stream",
     "text": [
      "Совпадение найдено\n"
     ]
    }
   ],
   "source": [
    "# Регулярка: `\\d{5}`\n",
    "#    - Смысл: Последовательности из 5 цифр\n",
    "\n",
    "import re\n",
    "\n",
    "text = \"12345\"\n",
    "pattern = r'\\d{5}'\n",
    "\n",
    "if re.search(pattern, text):\n",
    "   print(\"Совпадение найдено\")"
   ]
  },
  {
   "cell_type": "code",
   "execution_count": 60,
   "id": "79b47c73-8196-4b79-99ec-3be341c2cbdd",
   "metadata": {},
   "outputs": [
    {
     "name": "stdout",
     "output_type": "stream",
     "text": [
      "Совпадение найдено\n"
     ]
    }
   ],
   "source": [
    "# Регулярка: `\\d\\d/\\d\\d/\\d{4}`\n",
    "#    - Смысл: Даты в формате ДД/ММ/ГГГГ\n",
    "\n",
    "import re\n",
    "\n",
    "text = \"31/12/2023\"\n",
    "pattern = r'\\d\\d/\\d\\d/\\d{4}'\n",
    "\n",
    "if re.search(pattern, text):\n",
    "   print(\"Совпадение найдено\")"
   ]
  },
  {
   "cell_type": "code",
   "execution_count": 88,
   "id": "01cdc156-1811-4a3e-8cb3-8daf1edb531f",
   "metadata": {},
   "outputs": [
    {
     "name": "stdout",
     "output_type": "stream",
     "text": [
      "Совпадение: cat\n",
      "Совпадение: dog\n",
      "Совпадение: bat\n"
     ]
    }
   ],
   "source": [
    "# Регулярка: `\\b\\w{3}\\b`\n",
    "#    - Смысл: Слова в точности из трёх букв\n",
    "\n",
    "import re\n",
    "\n",
    "text = \"cat dog bat kkkk\"\n",
    "pattern = r'\\b\\w{3}\\b'\n",
    "\n",
    "matches = re.findall(pattern, text)\n",
    "for match in matches:\n",
    "   print(\"Совпадение:\", match)"
   ]
  },
  {
   "cell_type": "code",
   "execution_count": 89,
   "id": "e9d16761-adb6-4dc9-bd65-ba25b54283b3",
   "metadata": {},
   "outputs": [],
   "source": [
    "# Регулярка: `[-+]?\\\\d+`\n",
    "#    - Смысл: Целое число, например, 7, +17, -42, 0013 (возможны ведущие нули)\n",
    "\n",
    "import re\n",
    "\n",
    "text = \"7 +17 -42 0013\"\n",
    "pattern = r'[-+]?\\\\d+'\n",
    "\n",
    "matches = re.findall(pattern, text)\n",
    "for match in matches:\n",
    "   print(\"Совпадение:\", match)"
   ]
  },
  {
   "cell_type": "code",
   "execution_count": 90,
   "id": "3f5b9881-98fe-40e8-8509-c9bc5b5b617c",
   "metadata": {},
   "outputs": [
    {
     "name": "stdout",
     "output_type": "stream",
     "text": [
      "Совпадение: молоко\n",
      "Совпадение: малако\n",
      "Совпадение: м0л0ко\n"
     ]
    }
   ],
   "source": [
    "# Регулярка: `м.л.ко`\n",
    "#    - Смысл: Любой символ, кроме новой строки `\\n`, между \"м\", \"л\" и \"ко\".\n",
    "\n",
    "\n",
    "import re\n",
    "\n",
    "text = \"молоко, малако, Им0л0коИхлеб\"\n",
    "pattern = r'м.л.ко'\n",
    "\n",
    "matches = re.findall(pattern, text)\n",
    "for match in matches:\n",
    "   print(\"Совпадение:\", match)"
   ]
  },
  {
   "cell_type": "code",
   "execution_count": 64,
   "id": "ef9f7352-a3b6-4ed4-b6cf-7fa5e1113e0d",
   "metadata": {},
   "outputs": [
    {
     "name": "stdout",
     "output_type": "stream",
     "text": [
      "Совпадение: 3\n",
      "Совпадение: 5\n",
      "Совпадение: 1\n",
      "Совпадение: 1\n",
      "Совпадение: 1\n",
      "Совпадение: 1\n",
      "Совпадение: 4\n"
     ]
    }
   ],
   "source": [
    "# Регулярка: `\\d`\n",
    "#    - Смысл: Любая цифра.\n",
    "\n",
    "import re\n",
    "\n",
    "text = \"СУ35, СУ111, АЛСУ14\"\n",
    "pattern = r'\\d'\n",
    "\n",
    "matches = re.findall(pattern, text)\n",
    "for match in matches:\n",
    "   print(\"Совпадение:\", match)"
   ]
  },
  {
   "cell_type": "code",
   "execution_count": 65,
   "id": "5261a01b-f7a2-47ef-adf9-12f27b5697fe",
   "metadata": {},
   "outputs": [
    {
     "name": "stdout",
     "output_type": "stream",
     "text": [
      "Совпадение: )\n",
      "Совпадение: ,\n",
      "Совпадение:  \n",
      "Совпадение: -\n"
     ]
    }
   ],
   "source": [
    "# Регулярка: `\\D`\n",
    "#    - Смысл: Любой символ, кроме цифры.\n",
    "\n",
    "import re\n",
    "\n",
    "text = \"926)123, 1926-1234\"\n",
    "pattern = r'\\D'\n",
    "\n",
    "matches = re.findall(pattern, text)\n",
    "for match in matches:\n",
    "   print(\"Совпадение:\", match)"
   ]
  },
  {
   "cell_type": "code",
   "execution_count": 66,
   "id": "33ab14ec-ff5c-45c8-9b6a-cd0bf4e47e6b",
   "metadata": {},
   "outputs": [
    {
     "name": "stdout",
     "output_type": "stream",
     "text": [
      "Совпадение:  \n",
      "Совпадение:  \n",
      "Совпадение: \n",
      "\n",
      "Совпадение:  \n"
     ]
    }
   ],
   "source": [
    "# Регулярка: `\\s`\n",
    "#    - Смысл: Любой пробельный символ (пробел, табуляция, конец строки и т.п.).\n",
    "\n",
    "import re\n",
    "\n",
    "text = \"бор ода, бор\\nода, борода\"\n",
    "pattern = r'\\s'\n",
    "\n",
    "matches = re.findall(pattern, text)\n",
    "for match in matches:\n",
    "   print(\"Совпадение:\", match)"
   ]
  },
  {
   "cell_type": "code",
   "execution_count": 67,
   "id": "7f53f577-1614-4ce1-a11e-1fe00f657463",
   "metadata": {},
   "outputs": [
    {
     "name": "stdout",
     "output_type": "stream",
     "text": [
      "Совпадение: X\n",
      "Совпадение: 1\n",
      "Совпадение: 2\n",
      "Совпадение: 3\n",
      "Совпадение: ,\n",
      "Совпадение: я\n",
      "Совпадение: 1\n",
      "Совпадение: 2\n",
      "Совпадение: 3\n",
      "Совпадение: ,\n",
      "Совпадение: !\n",
      "Совпадение: 1\n",
      "Совпадение: 2\n",
      "Совпадение: 3\n",
      "Совпадение: 4\n",
      "Совпадение: 5\n",
      "Совпадение: 6\n",
      "Совпадение: ,\n",
      "Совпадение: 1\n",
      "Совпадение: +\n",
      "Совпадение: 1\n",
      "Совпадение: 2\n",
      "Совпадение: 3\n",
      "Совпадение: 4\n",
      "Совпадение: 5\n",
      "Совпадение: 6\n"
     ]
    }
   ],
   "source": [
    "# Регулярка: `\\S`\n",
    "#    - Смысл: Любой непробельный символ.\n",
    "\n",
    "\n",
    "import re\n",
    "\n",
    "text = \"X123, я123, !123456, 1 + 123456\"\n",
    "pattern = r'\\S'\n",
    "\n",
    "matches = re.findall(pattern, text)\n",
    "for match in matches:\n",
    "   print(\"Совпадение:\", match)"
   ]
  },
  {
   "cell_type": "code",
   "execution_count": 68,
   "id": "f3ab1f18-b642-4349-b271-5dde363312d7",
   "metadata": {},
   "outputs": [
    {
     "name": "stdout",
     "output_type": "stream",
     "text": [
      "Совпадение: Год\n",
      "Совпадение: f_3\n",
      "Совпадение: qwe\n"
     ]
    }
   ],
   "source": [
    "# Регулярка: `\\w`\n",
    "#    - Смысл: Любая буква (то, что может быть частью слова), а также цифры и `_`.\n",
    "\n",
    "import re\n",
    "\n",
    "text = \"Год, f_3, qwert\"\n",
    "pattern = r'\\w\\w\\w'\n",
    "\n",
    "matches = re.findall(pattern, text)\n",
    "for match in matches:\n",
    "   print(\"Совпадение:\", match)"
   ]
  },
  {
   "cell_type": "code",
   "execution_count": 69,
   "id": "3b0dc506-6394-4d70-b9bf-a826c394fad5",
   "metadata": {},
   "outputs": [
    {
     "name": "stdout",
     "output_type": "stream",
     "text": [
      "Совпадение: !\n",
      "Совпадение:  \n",
      "Совпадение: ?\n"
     ]
    }
   ],
   "source": [
    "# Регулярка: `\\W`\n",
    "#    - Смысл: Любой не-буква, не-цифра и не подчёркивание.\n",
    "\n",
    "import re\n",
    "\n",
    "text = \"сом! сом?\"\n",
    "pattern = r'\\W'\n",
    "\n",
    "matches = re.findall(pattern, text)\n",
    "for match in matches:\n",
    "   print(\"Совпадение:\", match)"
   ]
  },
  {
   "cell_type": "code",
   "execution_count": 70,
   "id": "f383578b-8760-4722-b468-11fc4567f606",
   "metadata": {},
   "outputs": [
    {
     "name": "stdout",
     "output_type": "stream",
     "text": [
      "Совпадение: вал\n"
     ]
    }
   ],
   "source": [
    "# Регулярка: `\\b`\n",
    "#    - Смысл: Начало или конец слова (слева пусто или не-буква, справа буква и наоборот).\n",
    "\n",
    "import re\n",
    "\n",
    "text = \"вал, перевал, Перевалка\"\n",
    "pattern = r'\\bвал'\n",
    "\n",
    "matches = re.findall(pattern, text)\n",
    "for match in matches:\n",
    "   print(\"Совпадение:\", match)"
   ]
  },
  {
   "cell_type": "code",
   "execution_count": 71,
   "id": "38156ed1-592b-4aaa-9310-2f59b6f6601a",
   "metadata": {},
   "outputs": [
    {
     "name": "stdout",
     "output_type": "stream",
     "text": [
      "Совпадение: вал\n",
      "Совпадение: вал\n"
     ]
    }
   ],
   "source": [
    "# Регулярка: `\\B`\n",
    "#    - Смысл: Не граница слова: либо и слева, и справа буквы, либо и слева, и справа НЕ буквы.\n",
    "\n",
    "import re\n",
    "\n",
    "text = \"перевал, вал, Перевалка\"\n",
    "pattern = r'\\Bвал'\n",
    "\n",
    "matches = re.findall(pattern, text)\n",
    "for match in matches:\n",
    "   print(\"Совпадение:\", match)"
   ]
  },
  {
   "cell_type": "code",
   "execution_count": 72,
   "id": "18c64ccb-803d-4a64-9fd5-e2987d714a85",
   "metadata": {},
   "outputs": [
    {
     "name": "stdout",
     "output_type": "stream",
     "text": [
      "Совпадение: 1234\n",
      "Совпадение: 1234\n"
     ]
    }
   ],
   "source": [
    "# Шаблон: `{n}`\n",
    "#    - Описание: Ровно n повторений\n",
    "#    - Пример: `\\d{4}` - ровно 4 цифры\n",
    "\n",
    "import re\n",
    "\n",
    "text = \"1 12 123 1234 12345\"\n",
    "pattern = r'\\d{4}'\n",
    "\n",
    "matches = re.findall(pattern, text)\n",
    "for match in matches:\n",
    "   print(\"Совпадение:\", match)"
   ]
  },
  {
   "cell_type": "code",
   "execution_count": 73,
   "id": "806e76ce-31b7-4357-9b87-5c5fdc32e27e",
   "metadata": {},
   "outputs": [
    {
     "name": "stdout",
     "output_type": "stream",
     "text": [
      "Совпадение: 12\n",
      "Совпадение: 123\n",
      "Совпадение: 1234\n",
      "Совпадение: 1234\n"
     ]
    }
   ],
   "source": [
    "# Шаблон: `{m,n}`\n",
    "#    - Описание: От m до n повторений включительно\n",
    "#    - Пример: `\\d{2,4}` - от 2 до 4 цифр\n",
    "\n",
    "import re\n",
    "\n",
    "text = \"1 12 123 1234 12345\"\n",
    "pattern = r'\\d{2,4}'\n",
    "\n",
    "matches = re.findall(pattern, text)\n",
    "for match in matches:\n",
    "   print(\"Совпадение:\", match)"
   ]
  },
  {
   "cell_type": "code",
   "execution_count": 74,
   "id": "c32e4570-2cba-4084-b0e7-3ace4dee4abc",
   "metadata": {},
   "outputs": [
    {
     "name": "stdout",
     "output_type": "stream",
     "text": [
      "Совпадение: 123\n",
      "Совпадение: 1234\n",
      "Совпадение: 12345\n"
     ]
    }
   ],
   "source": [
    "# Шаблон: `{m,}`\n",
    "#    - Описание: Не менее m повторений\n",
    "#    - Пример: `\\d{3,}` - не менее 3 цифр\n",
    "\n",
    "import re\n",
    "\n",
    "text = \"1 12 123 1234 12345\"\n",
    "pattern = r'\\d{3,}'\n",
    "\n",
    "matches = re.findall(pattern, text)\n",
    "for match in matches:\n",
    "   print(\"Совпадение:\", match)"
   ]
  },
  {
   "cell_type": "code",
   "execution_count": 75,
   "id": "3da179c4-9e5a-46b5-8496-06e28ae167d6",
   "metadata": {},
   "outputs": [
    {
     "name": "stdout",
     "output_type": "stream",
     "text": [
      "Совпадение: 1\n",
      "Совпадение: \n",
      "Совпадение: 12\n",
      "Совпадение: \n",
      "Совпадение: 12\n",
      "Совпадение: 3\n",
      "Совпадение: \n"
     ]
    }
   ],
   "source": [
    "# Шаблон: `{,n}`\n",
    "#    - Описание: Не более n повторений\n",
    "#    - Пример: `\\d{,2}` - не более 2 цифр\n",
    "\n",
    "import re\n",
    "\n",
    "text = \"1 12 123\"\n",
    "pattern = r'\\d{,2}'\n",
    "\n",
    "matches = re.findall(pattern, text)\n",
    "for match in matches:\n",
    "   print(\"Совпадение:\", match)"
   ]
  },
  {
   "cell_type": "code",
   "execution_count": 76,
   "id": "f6341bec-eaa4-4d1c-b766-9860874fff1c",
   "metadata": {},
   "outputs": [
    {
     "name": "stdout",
     "output_type": "stream",
     "text": [
      "Совпадение: вал\n",
      "Совпадение: валы\n",
      "Совпадение: вал\n"
     ]
    }
   ],
   "source": [
    "# Шаблон: `?`\n",
    "#    - Описание: Ноль или одно вхождение, синоним {0,1}\n",
    "#    - Пример: `валы?` - \"вал\" или \"валы\"\n",
    "\n",
    "import re\n",
    "\n",
    "text = \"вал валы валов\"\n",
    "pattern = r'валы?'\n",
    "\n",
    "matches = re.findall(pattern, text)\n",
    "for match in matches:\n",
    "   print(\"Совпадение:\", match)"
   ]
  },
  {
   "cell_type": "code",
   "execution_count": 77,
   "id": "78daeb44-cd34-4e27-a97b-0bba779463f6",
   "metadata": {},
   "outputs": [
    {
     "name": "stdout",
     "output_type": "stream",
     "text": [
      "Совпадение: СУ\n",
      "Совпадение: СУ1\n",
      "Совпадение: СУ12\n",
      "Совпадение: СУ123\n"
     ]
    }
   ],
   "source": [
    "# Шаблон: `*`\n",
    "#    - Описание: Ноль или более, синоним {0,}\n",
    "#    - Пример: `СУ\\d*` - \"СУ\", \"СУ1\", \"СУ12\", ...\n",
    "\n",
    "import re\n",
    "\n",
    "text = \"СУ СУ1 СУ12 СУ123\"\n",
    "pattern = r'СУ\\d*'\n",
    "\n",
    "matches = re.findall(pattern, text)\n",
    "for match in matches:\n",
    "   print(\"Совпадение:\", match)"
   ]
  },
  {
   "cell_type": "code",
   "execution_count": 78,
   "id": "57876add-f077-4ffa-8e1f-e7f9bcaae6a0",
   "metadata": {},
   "outputs": [
    {
     "name": "stdout",
     "output_type": "stream",
     "text": [
      "Совпадение: a)\n",
      "Совпадение: a))\n",
      "Совпадение: a)))\n",
      "Совпадение: a)\n"
     ]
    }
   ],
   "source": [
    "# Шаблон: `+`\n",
    "#    - Описание: Одно или более, синоним {1,}\n",
    "#    - Пример: `a\\)+` - одна или более закрывающих скобок \"a)\"\n",
    "\n",
    "import re\n",
    "\n",
    "text = \"a) a)) a))) ba)\"\n",
    "pattern = r'a\\)+'\n",
    "\n",
    "matches = re.findall(pattern, text)\n",
    "for match in matches:\n",
    "   print(\"Совпадение:\", match)"
   ]
  },
  {
   "cell_type": "code",
   "execution_count": 79,
   "id": "f29933fc-df95-4fa3-a44a-12f573e69fef",
   "metadata": {},
   "outputs": [
    {
     "name": "stdout",
     "output_type": "stream",
     "text": [
      "Совпадение: (c + d)\n",
      "Совпадение: (e + f)\n"
     ]
    }
   ],
   "source": [
    "# Шаблон: `*?`, `+?`, `??`, `{m,n}?`, `{,n}?`, `{m,}?`\n",
    "#    - Описание: Ленивые (нежадные) квантификаторы, захватывают минимально возможное число символов.\n",
    "\n",
    "import re\n",
    "\n",
    "text = \"a + b) * (c + d) * (e + f)\"\n",
    "pattern = r'\\(.*?\\)'\n",
    "\n",
    "matches = re.findall(pattern, text)\n",
    "for match in matches:\n",
    "   print(\"Совпадение:\", match)"
   ]
  },
  {
   "cell_type": "code",
   "execution_count": 80,
   "id": "9390d613-1ef2-439a-a87d-85cb27582a1d",
   "metadata": {},
   "outputs": [
    {
     "name": "stdout",
     "output_type": "stream",
     "text": [
      "['Людовик', 'Людовик']\n"
     ]
    }
   ],
   "source": [
    "# Регулярные выражения с использованием lookaround на примере королей и императоров Франции в Python:\n",
    "\n",
    "# Людовик(?=VI) — Людовик, за которым идёт VI:\n",
    "\n",
    "import re\n",
    "\n",
    "text = \"ЛюдовикVI КарлIV ЛюдовикVII ФилиппVI\"\n",
    "pattern = r'Людовик(?=VI)'\n",
    "\n",
    "matches = re.findall(pattern, text)\n",
    "print(matches)"
   ]
  },
  {
   "cell_type": "code",
   "execution_count": 81,
   "id": "d8f343dc-4231-492b-a122-e81b3e50607c",
   "metadata": {},
   "outputs": [
    {
     "name": "stdout",
     "output_type": "stream",
     "text": [
      "[]\n"
     ]
    }
   ],
   "source": [
    "# Людовик(?!VI) — Людовик, за которым идёт не VI:\n",
    "\n",
    "import re\n",
    "\n",
    "text = \"ЛюдовикVI КарлIV ЛюдовикVII ФилиппVI\"\n",
    "pattern = r'Людовик(?!VI)'\n",
    "\n",
    "matches = re.findall(pattern, text)\n",
    "print(matches)"
   ]
  },
  {
   "cell_type": "code",
   "execution_count": 82,
   "id": "41a1c651-abe1-471f-8ff6-dabc17e7cab7",
   "metadata": {},
   "outputs": [
    {
     "name": "stdout",
     "output_type": "stream",
     "text": [
      "['VI', 'VI']\n"
     ]
    }
   ],
   "source": [
    "# (?<=Людовик)VI — «шестой», но только если Людовик:\n",
    "\n",
    "import re\n",
    "\n",
    "text = \"ЛюдовикVI КарлIV ЛюдовикVII ФилиппVI\"\n",
    "pattern = r'(?<=Людовик)VI'\n",
    "\n",
    "matches = re.findall(pattern, text)\n",
    "print(matches)"
   ]
  },
  {
   "cell_type": "code",
   "execution_count": 83,
   "id": "7934014c-755a-41a0-bbe2-475f0ac70ce2",
   "metadata": {},
   "outputs": [
    {
     "name": "stdout",
     "output_type": "stream",
     "text": [
      "['VI']\n"
     ]
    }
   ],
   "source": [
    "# (?<!Людовик)VI — «шестой», но только если не Людовик:\n",
    "\n",
    "import re\n",
    "\n",
    "text = \"ЛюдовикVI КарлIV ЛюдовикVII ФилиппVI\"\n",
    "pattern = r'(?<!Людовик)VI'\n",
    "\n",
    "matches = re.findall(pattern, text)\n",
    "print(matches)"
   ]
  }
 ],
 "metadata": {
  "kernelspec": {
   "display_name": "Python 3 (ipykernel)",
   "language": "python",
   "name": "python3"
  },
  "language_info": {
   "codemirror_mode": {
    "name": "ipython",
    "version": 3
   },
   "file_extension": ".py",
   "mimetype": "text/x-python",
   "name": "python",
   "nbconvert_exporter": "python",
   "pygments_lexer": "ipython3",
   "version": "3.12.5"
  }
 },
 "nbformat": 4,
 "nbformat_minor": 5
}
