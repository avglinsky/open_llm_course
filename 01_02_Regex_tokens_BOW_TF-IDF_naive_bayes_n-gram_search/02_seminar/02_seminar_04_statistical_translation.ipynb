{
 "cells": [
  {
   "cell_type": "markdown",
   "id": "4e8e206e-195f-4c99-a742-f98f184a9c0a",
   "metadata": {},
   "source": [
    "# Statistical translation"
   ]
  },
  {
   "cell_type": "code",
   "execution_count": 1,
   "id": "ca42894e-55f7-448d-9475-73faaa13ad1f",
   "metadata": {},
   "outputs": [
    {
     "name": "stdout",
     "output_type": "stream",
     "text": [
      "кошки кошки кошки\n"
     ]
    }
   ],
   "source": [
    "import numpy as np\n",
    "from collections import defaultdict\n",
    "\n",
    "# Игрушечный корпус для англо-русского перевода (просто для примера)\n",
    "# Предположим, что у нас есть пары фраз на английском и русском языках\n",
    "english_sentences = [\"I like cats\", \"She is a student\"]\n",
    "russian_sentences = [\"Мне нравятся кошки\", \"Она студентка\"]\n",
    "\n",
    "# Разделение фраз на токены (просто разделение по пробелам)\n",
    "english_tokens = [sentence.split() for sentence in english_sentences]\n",
    "russian_tokens = [sentence.split() for sentence in russian_sentences]\n",
    "\n",
    "# Создание словарей для английских и русских слов\n",
    "english_vocab = {word: index for index, word in enumerate(set(word for sentence in english_tokens for word in sentence))}\n",
    "russian_vocab = {word: index for index, word in enumerate(set(word for sentence in russian_tokens for word in sentence))}\n",
    "\n",
    "# Инициализация матрицы перевода случайными значениями\n",
    "num_english_words = len(english_vocab)\n",
    "num_russian_words = len(russian_vocab)\n",
    "translation_matrix = np.random.rand(num_english_words, num_russian_words)\n",
    "\n",
    "# Обучение модели (простой пример с использованием EM-алгоритма)\n",
    "num_iterations = 1000\n",
    "for iteration in range(num_iterations):\n",
    "    # E-шаг: вычисление вероятности выравниваний\n",
    "    alignment_probabilities = np.zeros((len(english_tokens), len(russian_tokens)))\n",
    "    for i, english_sentence in enumerate(english_tokens):\n",
    "        for j, russian_sentence in enumerate(russian_tokens):\n",
    "            alignment_probabilities[i, j] = sum(\n",
    "                translation_matrix[english_vocab[english_word], russian_vocab[russian_word]]\n",
    "                for english_word in english_sentence for russian_word in russian_sentence\n",
    "            )\n",
    "\n",
    "    # M-шаг: обновление матрицы перевода на основе вероятностей выравниваний\n",
    "    translation_matrix_new = np.zeros((num_english_words, num_russian_words))\n",
    "    for i, english_word in enumerate(english_vocab):\n",
    "        for j, russian_word in enumerate(russian_vocab):\n",
    "            for k in range(len(english_tokens)):\n",
    "                for l in range(len(russian_tokens)):\n",
    "                    if english_word in english_tokens[k] and russian_word in russian_tokens[l]:\n",
    "                        translation_matrix_new[i, j] += alignment_probabilities[k, l] / alignment_probabilities.sum(axis=1)[k]\n",
    "\n",
    "    # Нормализация матрицы перевода\n",
    "    translation_matrix = translation_matrix_new / translation_matrix_new.sum(axis=1)[:, np.newaxis]\n",
    "\n",
    "# Пример: перевод предложения \"I like cats\" на русский\n",
    "input_sentence = \"I like cats\".split()\n",
    "output_sentence = []\n",
    "for english_word in input_sentence:\n",
    "    if english_word in english_vocab:\n",
    "        english_index = english_vocab[english_word]\n",
    "        russian_index = np.argmax(translation_matrix[english_index])\n",
    "        if russian_index < len(russian_vocab):\n",
    "            output_sentence.append(list(russian_vocab.keys())[russian_index])\n",
    "    else:\n",
    "        output_sentence.append(english_word)  # Если слово не встречалось в обучающих данных, оставляем его неизменным\n",
    "\n",
    "print(\" \".join(output_sentence))\n"
   ]
  }
 ],
 "metadata": {
  "kernelspec": {
   "display_name": "Python 3 (ipykernel)",
   "language": "python",
   "name": "python3"
  },
  "language_info": {
   "codemirror_mode": {
    "name": "ipython",
    "version": 3
   },
   "file_extension": ".py",
   "mimetype": "text/x-python",
   "name": "python",
   "nbconvert_exporter": "python",
   "pygments_lexer": "ipython3",
   "version": "3.11.5"
  }
 },
 "nbformat": 4,
 "nbformat_minor": 5
}
