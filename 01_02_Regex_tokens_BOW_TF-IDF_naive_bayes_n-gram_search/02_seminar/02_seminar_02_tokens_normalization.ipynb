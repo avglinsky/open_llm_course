{
 "cells": [
  {
   "cell_type": "markdown",
   "id": "444ebb89-03b2-44ab-851d-4c8659749a4a",
   "metadata": {},
   "source": [
    "# Виды токенизации в nlp\n"
   ]
  },
  {
   "cell_type": "markdown",
   "id": "7b65e01f-114c-49f1-8c0f-5119753e149d",
   "metadata": {},
   "source": [
    "Токенизация в обработке естественного языка (NLP) — это процесс разделения текста на отдельные элементы, называемые токенами. Токены могут быть словами, фразами, символами или даже подстроками, в зависимости от задачи и целей обработки текста. Вот некоторые виды токенизации в NLP:\n",
    "\n",
    "1. **Токенизация по словам (Word Tokenization)**: Этот вид токенизации разделяет текст на слова. Например, фраза \"Привет, мир!\" будет разделена на токены: [\"Привет\", \",\", \"мир\", \"!\"].\n",
    "\n",
    "2. **Токенизация по фразам (Phrase Tokenization)**: В некоторых случаях может потребоваться разделить текст на более крупные фрагменты, чем слова, например, на фразы или предложения.\n",
    "\n",
    "3. **Символьная токенизация (Character Tokenization)**: В этом случае текст разделяется на отдельные символы. Это может быть полезно для некоторых задач, таких как сегментация писем в адреса электронной почты.\n",
    "\n",
    "4. **Субсловная (Subword) токенизация**: Этот вид токенизации разбивает текст на субслова или морфемы, что полезно для работы с языками, где слова образуются путем комбинации корней и аффиксов. Примером может служить BPE (Byte-Pair Encoding) или токенизация на основе WordPiece.\n",
    "\n",
    "5. **Токенизация на основе применения правил (Rule-based Tokenization)**: В этом случае используются правила для определения, какие символы служат разделителями токенов. Например, разделение по пробелам или знакам пунктуации.\n",
    "\n",
    "6. **Токенизация на основе машинного обучения (Machine Learning-based Tokenization)**: В этом случае алгоритмы машинного обучения обучаются на больших объемах текста для автоматического выделения токенов. Примером может служить токенизация на основе рекуррентных нейронных сетей или Transformer-моделей.\n",
    "\n",
    "7. **Токенизация на уровне символов и подсимвольных элементов (Byte-level and Sub-byte Tokenization)**: Для определенных задач, таких как обработка байтовых данных или кодирование в Unicode, текст может быть разделен на байты, символы или их части (например, биты).\n",
    "\n",
    "8. **Многоуровневая токенизация (Multi-level Tokenization)**: В некоторых случаях применяются несколько уровней токенизации, например, сначала текст разделяется на слова, а затем каждое слово разделяется на подслова.\n",
    "\n",
    "Выбор определенного метода токенизации зависит от конкретной задачи, языка и целей анализа текста. Каждый вид токенизации имеет свои преимущества и недостатки, и выбор должен быть сделан с учетом контекста и требований вашего NLP-проекта."
   ]
  },
  {
   "cell_type": "code",
   "execution_count": 1,
   "id": "f3721426-7c03-40e5-ac94-fad70ff710dd",
   "metadata": {},
   "outputs": [
    {
     "name": "stdout",
     "output_type": "stream",
     "text": [
      "['Привет,', 'мир!']\n"
     ]
    }
   ],
   "source": [
    "# В Python для токенизации текста по словам вы можете использовать различные библиотеки, такие как NLTK (Natural Language Toolkit) или spaCy, \n",
    "# или же просто разбить строку на слова с помощью методов строк. Вот примеры токенизации по словам с использованием разных методов:\n",
    "\n",
    "# 1. **Разделение строки с помощью метода `split()`:**\n",
    "\n",
    "text = \"Привет, мир!\"\n",
    "tokens = text.split()  # Разделяем текст по пробелам\n",
    "print(tokens)"
   ]
  },
  {
   "cell_type": "code",
   "execution_count": 3,
   "id": "c662b7fd-858e-48f2-a195-b3258ab0d8e0",
   "metadata": {},
   "outputs": [
    {
     "ename": "LookupError",
     "evalue": "\n**********************************************************************\n  Resource \u001b[93mpunkt_tab\u001b[0m not found.\n  Please use the NLTK Downloader to obtain the resource:\n\n  \u001b[31m>>> import nltk\n  >>> nltk.download('punkt_tab')\n  \u001b[0m\n  For more information see: https://www.nltk.org/data.html\n\n  Attempted to load \u001b[93mtokenizers/punkt_tab/russian/\u001b[0m\n\n  Searched in:\n    - '/Users/andrei/nltk_data'\n    - '/Users/andrei/Yandex.Disk.localized/LLM_course_MIPT/.venv/nltk_data'\n    - '/Users/andrei/Yandex.Disk.localized/LLM_course_MIPT/.venv/share/nltk_data'\n    - '/Users/andrei/Yandex.Disk.localized/LLM_course_MIPT/.venv/lib/nltk_data'\n    - '/usr/share/nltk_data'\n    - '/usr/local/share/nltk_data'\n    - '/usr/lib/nltk_data'\n    - '/usr/local/lib/nltk_data'\n**********************************************************************\n",
     "output_type": "error",
     "traceback": [
      "\u001b[0;31m---------------------------------------------------------------------------\u001b[0m",
      "\u001b[0;31mLookupError\u001b[0m                               Traceback (most recent call last)",
      "Cell \u001b[0;32mIn[3], line 9\u001b[0m\n\u001b[1;32m      6\u001b[0m \u001b[38;5;28;01mfrom\u001b[39;00m \u001b[38;5;21;01mnltk\u001b[39;00m\u001b[38;5;21;01m.\u001b[39;00m\u001b[38;5;21;01mtokenize\u001b[39;00m \u001b[38;5;28;01mimport\u001b[39;00m word_tokenize\n\u001b[1;32m      8\u001b[0m text \u001b[38;5;241m=\u001b[39m \u001b[38;5;124m\"\u001b[39m\u001b[38;5;124mПривет, мир!\u001b[39m\u001b[38;5;124m\"\u001b[39m\n\u001b[0;32m----> 9\u001b[0m tokens \u001b[38;5;241m=\u001b[39m \u001b[43mword_tokenize\u001b[49m\u001b[43m(\u001b[49m\u001b[43mtext\u001b[49m\u001b[43m,\u001b[49m\u001b[43m \u001b[49m\u001b[43mlanguage\u001b[49m\u001b[38;5;241;43m=\u001b[39;49m\u001b[38;5;124;43m'\u001b[39;49m\u001b[38;5;124;43mrussian\u001b[39;49m\u001b[38;5;124;43m'\u001b[39;49m\u001b[43m)\u001b[49m  \u001b[38;5;66;03m# Токенизация по словам с помощью NLTK\u001b[39;00m\n\u001b[1;32m     10\u001b[0m \u001b[38;5;28mprint\u001b[39m(tokens)\n",
      "File \u001b[0;32m~/Yandex.Disk.localized/LLM_course_MIPT/.venv/lib/python3.12/site-packages/nltk/tokenize/__init__.py:142\u001b[0m, in \u001b[0;36mword_tokenize\u001b[0;34m(text, language, preserve_line)\u001b[0m\n\u001b[1;32m    127\u001b[0m \u001b[38;5;28;01mdef\u001b[39;00m \u001b[38;5;21mword_tokenize\u001b[39m(text, language\u001b[38;5;241m=\u001b[39m\u001b[38;5;124m\"\u001b[39m\u001b[38;5;124menglish\u001b[39m\u001b[38;5;124m\"\u001b[39m, preserve_line\u001b[38;5;241m=\u001b[39m\u001b[38;5;28;01mFalse\u001b[39;00m):\n\u001b[1;32m    128\u001b[0m \u001b[38;5;250m    \u001b[39m\u001b[38;5;124;03m\"\"\"\u001b[39;00m\n\u001b[1;32m    129\u001b[0m \u001b[38;5;124;03m    Return a tokenized copy of *text*,\u001b[39;00m\n\u001b[1;32m    130\u001b[0m \u001b[38;5;124;03m    using NLTK's recommended word tokenizer\u001b[39;00m\n\u001b[0;32m   (...)\u001b[0m\n\u001b[1;32m    140\u001b[0m \u001b[38;5;124;03m    :type preserve_line: bool\u001b[39;00m\n\u001b[1;32m    141\u001b[0m \u001b[38;5;124;03m    \"\"\"\u001b[39;00m\n\u001b[0;32m--> 142\u001b[0m     sentences \u001b[38;5;241m=\u001b[39m [text] \u001b[38;5;28;01mif\u001b[39;00m preserve_line \u001b[38;5;28;01melse\u001b[39;00m \u001b[43msent_tokenize\u001b[49m\u001b[43m(\u001b[49m\u001b[43mtext\u001b[49m\u001b[43m,\u001b[49m\u001b[43m \u001b[49m\u001b[43mlanguage\u001b[49m\u001b[43m)\u001b[49m\n\u001b[1;32m    143\u001b[0m     \u001b[38;5;28;01mreturn\u001b[39;00m [\n\u001b[1;32m    144\u001b[0m         token \u001b[38;5;28;01mfor\u001b[39;00m sent \u001b[38;5;129;01min\u001b[39;00m sentences \u001b[38;5;28;01mfor\u001b[39;00m token \u001b[38;5;129;01min\u001b[39;00m _treebank_word_tokenizer\u001b[38;5;241m.\u001b[39mtokenize(sent)\n\u001b[1;32m    145\u001b[0m     ]\n",
      "File \u001b[0;32m~/Yandex.Disk.localized/LLM_course_MIPT/.venv/lib/python3.12/site-packages/nltk/tokenize/__init__.py:119\u001b[0m, in \u001b[0;36msent_tokenize\u001b[0;34m(text, language)\u001b[0m\n\u001b[1;32m    109\u001b[0m \u001b[38;5;28;01mdef\u001b[39;00m \u001b[38;5;21msent_tokenize\u001b[39m(text, language\u001b[38;5;241m=\u001b[39m\u001b[38;5;124m\"\u001b[39m\u001b[38;5;124menglish\u001b[39m\u001b[38;5;124m\"\u001b[39m):\n\u001b[1;32m    110\u001b[0m \u001b[38;5;250m    \u001b[39m\u001b[38;5;124;03m\"\"\"\u001b[39;00m\n\u001b[1;32m    111\u001b[0m \u001b[38;5;124;03m    Return a sentence-tokenized copy of *text*,\u001b[39;00m\n\u001b[1;32m    112\u001b[0m \u001b[38;5;124;03m    using NLTK's recommended sentence tokenizer\u001b[39;00m\n\u001b[0;32m   (...)\u001b[0m\n\u001b[1;32m    117\u001b[0m \u001b[38;5;124;03m    :param language: the model name in the Punkt corpus\u001b[39;00m\n\u001b[1;32m    118\u001b[0m \u001b[38;5;124;03m    \"\"\"\u001b[39;00m\n\u001b[0;32m--> 119\u001b[0m     tokenizer \u001b[38;5;241m=\u001b[39m \u001b[43m_get_punkt_tokenizer\u001b[49m\u001b[43m(\u001b[49m\u001b[43mlanguage\u001b[49m\u001b[43m)\u001b[49m\n\u001b[1;32m    120\u001b[0m     \u001b[38;5;28;01mreturn\u001b[39;00m tokenizer\u001b[38;5;241m.\u001b[39mtokenize(text)\n",
      "File \u001b[0;32m~/Yandex.Disk.localized/LLM_course_MIPT/.venv/lib/python3.12/site-packages/nltk/tokenize/__init__.py:105\u001b[0m, in \u001b[0;36m_get_punkt_tokenizer\u001b[0;34m(language)\u001b[0m\n\u001b[1;32m     96\u001b[0m \u001b[38;5;129m@functools\u001b[39m\u001b[38;5;241m.\u001b[39mlru_cache\n\u001b[1;32m     97\u001b[0m \u001b[38;5;28;01mdef\u001b[39;00m \u001b[38;5;21m_get_punkt_tokenizer\u001b[39m(language\u001b[38;5;241m=\u001b[39m\u001b[38;5;124m\"\u001b[39m\u001b[38;5;124menglish\u001b[39m\u001b[38;5;124m\"\u001b[39m):\n\u001b[1;32m     98\u001b[0m \u001b[38;5;250m    \u001b[39m\u001b[38;5;124;03m\"\"\"\u001b[39;00m\n\u001b[1;32m     99\u001b[0m \u001b[38;5;124;03m    A constructor for the PunktTokenizer that utilizes\u001b[39;00m\n\u001b[1;32m    100\u001b[0m \u001b[38;5;124;03m    a lru cache for performance.\u001b[39;00m\n\u001b[0;32m   (...)\u001b[0m\n\u001b[1;32m    103\u001b[0m \u001b[38;5;124;03m    :type language: str\u001b[39;00m\n\u001b[1;32m    104\u001b[0m \u001b[38;5;124;03m    \"\"\"\u001b[39;00m\n\u001b[0;32m--> 105\u001b[0m     \u001b[38;5;28;01mreturn\u001b[39;00m \u001b[43mPunktTokenizer\u001b[49m\u001b[43m(\u001b[49m\u001b[43mlanguage\u001b[49m\u001b[43m)\u001b[49m\n",
      "File \u001b[0;32m~/Yandex.Disk.localized/LLM_course_MIPT/.venv/lib/python3.12/site-packages/nltk/tokenize/punkt.py:1744\u001b[0m, in \u001b[0;36mPunktTokenizer.__init__\u001b[0;34m(self, lang)\u001b[0m\n\u001b[1;32m   1742\u001b[0m \u001b[38;5;28;01mdef\u001b[39;00m \u001b[38;5;21m__init__\u001b[39m(\u001b[38;5;28mself\u001b[39m, lang\u001b[38;5;241m=\u001b[39m\u001b[38;5;124m\"\u001b[39m\u001b[38;5;124menglish\u001b[39m\u001b[38;5;124m\"\u001b[39m):\n\u001b[1;32m   1743\u001b[0m     PunktSentenceTokenizer\u001b[38;5;241m.\u001b[39m\u001b[38;5;21m__init__\u001b[39m(\u001b[38;5;28mself\u001b[39m)\n\u001b[0;32m-> 1744\u001b[0m     \u001b[38;5;28;43mself\u001b[39;49m\u001b[38;5;241;43m.\u001b[39;49m\u001b[43mload_lang\u001b[49m\u001b[43m(\u001b[49m\u001b[43mlang\u001b[49m\u001b[43m)\u001b[49m\n",
      "File \u001b[0;32m~/Yandex.Disk.localized/LLM_course_MIPT/.venv/lib/python3.12/site-packages/nltk/tokenize/punkt.py:1749\u001b[0m, in \u001b[0;36mPunktTokenizer.load_lang\u001b[0;34m(self, lang)\u001b[0m\n\u001b[1;32m   1746\u001b[0m \u001b[38;5;28;01mdef\u001b[39;00m \u001b[38;5;21mload_lang\u001b[39m(\u001b[38;5;28mself\u001b[39m, lang\u001b[38;5;241m=\u001b[39m\u001b[38;5;124m\"\u001b[39m\u001b[38;5;124menglish\u001b[39m\u001b[38;5;124m\"\u001b[39m):\n\u001b[1;32m   1747\u001b[0m     \u001b[38;5;28;01mfrom\u001b[39;00m \u001b[38;5;21;01mnltk\u001b[39;00m\u001b[38;5;21;01m.\u001b[39;00m\u001b[38;5;21;01mdata\u001b[39;00m \u001b[38;5;28;01mimport\u001b[39;00m find\n\u001b[0;32m-> 1749\u001b[0m     lang_dir \u001b[38;5;241m=\u001b[39m \u001b[43mfind\u001b[49m\u001b[43m(\u001b[49m\u001b[38;5;124;43mf\u001b[39;49m\u001b[38;5;124;43m\"\u001b[39;49m\u001b[38;5;124;43mtokenizers/punkt_tab/\u001b[39;49m\u001b[38;5;132;43;01m{\u001b[39;49;00m\u001b[43mlang\u001b[49m\u001b[38;5;132;43;01m}\u001b[39;49;00m\u001b[38;5;124;43m/\u001b[39;49m\u001b[38;5;124;43m\"\u001b[39;49m\u001b[43m)\u001b[49m\n\u001b[1;32m   1750\u001b[0m     \u001b[38;5;28mself\u001b[39m\u001b[38;5;241m.\u001b[39m_params \u001b[38;5;241m=\u001b[39m load_punkt_params(lang_dir)\n\u001b[1;32m   1751\u001b[0m     \u001b[38;5;28mself\u001b[39m\u001b[38;5;241m.\u001b[39m_lang \u001b[38;5;241m=\u001b[39m lang\n",
      "File \u001b[0;32m~/Yandex.Disk.localized/LLM_course_MIPT/.venv/lib/python3.12/site-packages/nltk/data.py:579\u001b[0m, in \u001b[0;36mfind\u001b[0;34m(resource_name, paths)\u001b[0m\n\u001b[1;32m    577\u001b[0m sep \u001b[38;5;241m=\u001b[39m \u001b[38;5;124m\"\u001b[39m\u001b[38;5;124m*\u001b[39m\u001b[38;5;124m\"\u001b[39m \u001b[38;5;241m*\u001b[39m \u001b[38;5;241m70\u001b[39m\n\u001b[1;32m    578\u001b[0m resource_not_found \u001b[38;5;241m=\u001b[39m \u001b[38;5;124mf\u001b[39m\u001b[38;5;124m\"\u001b[39m\u001b[38;5;130;01m\\n\u001b[39;00m\u001b[38;5;132;01m{\u001b[39;00msep\u001b[38;5;132;01m}\u001b[39;00m\u001b[38;5;130;01m\\n\u001b[39;00m\u001b[38;5;132;01m{\u001b[39;00mmsg\u001b[38;5;132;01m}\u001b[39;00m\u001b[38;5;130;01m\\n\u001b[39;00m\u001b[38;5;132;01m{\u001b[39;00msep\u001b[38;5;132;01m}\u001b[39;00m\u001b[38;5;130;01m\\n\u001b[39;00m\u001b[38;5;124m\"\u001b[39m\n\u001b[0;32m--> 579\u001b[0m \u001b[38;5;28;01mraise\u001b[39;00m \u001b[38;5;167;01mLookupError\u001b[39;00m(resource_not_found)\n",
      "\u001b[0;31mLookupError\u001b[0m: \n**********************************************************************\n  Resource \u001b[93mpunkt_tab\u001b[0m not found.\n  Please use the NLTK Downloader to obtain the resource:\n\n  \u001b[31m>>> import nltk\n  >>> nltk.download('punkt_tab')\n  \u001b[0m\n  For more information see: https://www.nltk.org/data.html\n\n  Attempted to load \u001b[93mtokenizers/punkt_tab/russian/\u001b[0m\n\n  Searched in:\n    - '/Users/andrei/nltk_data'\n    - '/Users/andrei/Yandex.Disk.localized/LLM_course_MIPT/.venv/nltk_data'\n    - '/Users/andrei/Yandex.Disk.localized/LLM_course_MIPT/.venv/share/nltk_data'\n    - '/Users/andrei/Yandex.Disk.localized/LLM_course_MIPT/.venv/lib/nltk_data'\n    - '/usr/share/nltk_data'\n    - '/usr/local/share/nltk_data'\n    - '/usr/lib/nltk_data'\n    - '/usr/local/lib/nltk_data'\n**********************************************************************\n"
     ]
    }
   ],
   "source": [
    "# 2. **Использование библиотеки NLTK:**\n",
    "# Для этого вам нужно будет установить библиотеку NLTK, если она еще не установлена:\n",
    "\n",
    "import nltk\n",
    "# nltk.download('punkt')\n",
    "from nltk.tokenize import word_tokenize\n",
    "\n",
    "text = \"Привет, мир!\"\n",
    "tokens = word_tokenize(text, language='russian')  # Токенизация по словам с помощью NLTK\n",
    "print(tokens)"
   ]
  },
  {
   "cell_type": "code",
   "execution_count": 3,
   "id": "ff2b88a7-9c2a-409f-8a33-61a5b7bc5ce3",
   "metadata": {},
   "outputs": [
    {
     "name": "stdout",
     "output_type": "stream",
     "text": [
      "['Привет', ',', 'мир', '!']\n"
     ]
    }
   ],
   "source": [
    "# 3. **Использование библиотеки spaCy:**\n",
    "# Для использования spaCy также потребуется установить библиотеку и загрузить соответствующую модель:\n",
    "\n",
    "\n",
    "import spacy\n",
    "import spacy.cli\n",
    "\n",
    "# spacy.cli.download(\"ru_core_news_sm\")\n",
    "nlp = spacy.load(\"ru_core_news_sm\")\n",
    "\n",
    "text = \"Привет, мир!\"\n",
    "doc = nlp(text)\n",
    "tokens = [token.text for token in doc]  # Токенизация по словам с помощью spaCy\n",
    "print(tokens)"
   ]
  },
  {
   "cell_type": "code",
   "execution_count": 4,
   "id": "5b7e85dc-14c0-468d-b783-15f459412a97",
   "metadata": {},
   "outputs": [
    {
     "name": "stdout",
     "output_type": "stream",
     "text": [
      "['Привет, мир!', 'Как дела?', 'Это пример токенизации текста на предложения.']\n"
     ]
    }
   ],
   "source": [
    "# Пример токенизации текста не по словам, а по фразам (предложениям) \n",
    "# с использованием библиотеки NLTK в Python:\n",
    "\n",
    "import nltk\n",
    "\n",
    "# Загрузим предобученный токенизатор для разбиения текста на предложения\n",
    "# nltk.download('punkt')\n",
    "\n",
    "from nltk.tokenize import sent_tokenize\n",
    "\n",
    "text = \"Привет, мир! Как дела? Это пример токенизации текста на предложения.\"\n",
    "sentences = sent_tokenize(text, language='russian')  # Токенизация на предложения\n",
    "print(sentences)"
   ]
  },
  {
   "cell_type": "code",
   "execution_count": 5,
   "id": "4aaa5a24-519e-4bda-b964-1eb9b228cb60",
   "metadata": {},
   "outputs": [
    {
     "name": "stdout",
     "output_type": "stream",
     "text": [
      "['П', 'р', 'и', 'м', 'е', 'р', ' ', 'т', 'о', 'к', 'е', 'н', 'и', 'з', 'а', 'ц', 'и', 'и', ' ', 'п', 'о', ' ', 'с', 'и', 'м', 'в', 'о', 'л', 'а', 'м']\n"
     ]
    }
   ],
   "source": [
    "text = \"Пример токенизации по символам\"\n",
    "tokens = list(text)  # Разделяем текст на символы\n",
    "print(tokens)"
   ]
  },
  {
   "cell_type": "code",
   "execution_count": 2,
   "id": "00f58b9f-a873-4e14-820d-dad094b4ce50",
   "metadata": {},
   "outputs": [
    {
     "name": "stdout",
     "output_type": "stream",
     "text": [
      "\n",
      "\n",
      "\n",
      "Encoding(num_tokens=10, attributes=[ids, type_ids, tokens, offsets, attention_mask, special_tokens_mask, overflowing])\n",
      "[43, 17, 20, 14, 35, 41, 36, 6, 5, 33]\n"
     ]
    }
   ],
   "source": [
    "from tokenizers import CharBPETokenizer\n",
    "\n",
    "tokenizer = CharBPETokenizer()\n",
    "\n",
    "# Обучаем токенизатор на тексте\n",
    "tokenizer.train([\"corpus.txt\"])\n",
    "\n",
    "# Сохраняем модель токенизатора\n",
    "# tokenizer.save(\"charbpe-tokenizer.json\")\n",
    "\n",
    "encoded = tokenizer.encode(\"пример для NLP\")\n",
    "print(encoded)\n",
    "print(encoded.ids)"
   ]
  },
  {
   "cell_type": "markdown",
   "id": "f1900b87-5f6e-49e5-b0e6-e743ba16106e",
   "metadata": {},
   "source": [
    "# Виды нормализации в nlp"
   ]
  },
  {
   "cell_type": "markdown",
   "id": "19bea14a-906b-495e-b3e7-59df09f5428b",
   "metadata": {},
   "source": [
    "Нормализация в обработке естественного языка (NLP) - это процесс приведения текста к стандартизированному или упрощенному виду, который облегчает анализ и сравнение текстов. Вот некоторые виды нормализации в NLP:\n",
    "\n",
    "1. **Приведение к нижнему регистру (Lowercasing)**: Приведение всех символов в тексте к нижнему регистру. Например, \"Привет\" и \"привет\" будут считаться одним и тем же словом после нормализации.\n",
    "\n",
    "2. **Удаление пунктуации**: Удаление знаков препинания, символов и специальных символов из текста. Например, \"Привет!\" станет \"Привет\".\n",
    "\n",
    "3. **Удаление стоп-слов (Stop Word Removal)**: Удаление часто встречающихся слов, которые не несут смысловой нагрузки (стоп-слова), таких как \"и\", \"в\", \"с\" и т. д.\n",
    "\n",
    "4. **Стемминг (Stemming)**: Процесс обрезания аффиксов (окончаний) слов для приведения их к их базовой (словарной) форме. Например, слова \"бегу\", \"бежит\" и \"бегут\" могут быть преобразованы к основе \"бег\".\n",
    "\n",
    "5. **Лемматизация (Lemmatization)**: Процесс приведения слов к их леммам, то есть к их базовым словарным формам. В отличие от стемминга, лемматизация учитывает грамматические правила и обеспечивает более точное приведение слов.\n",
    "\n",
    "6. **Удаление лишних пробелов**: Удаление дополнительных пробелов между словами и в начале и конце текста.\n",
    "\n",
    "7. **Замена чисел и дат**: Замена чисел и дат на специальные символы или токены, чтобы сохранить смысл текста, но упростить его структуру.\n",
    "\n",
    "8. **Коррекция опечаток (Spelling Correction)**: Процесс исправления опечаток и орфографических ошибок в тексте.\n",
    "\n",
    "9. **Удаление HTML-тегов**: В случае обработки веб-страниц, удаление HTML-тегов для извлечения только текстового содержания.\n",
    "\n",
    "10. **Обработка сокращений и аббревиатур**: Замена сокращений и аббревиатур на полные формы или наоборот.\n",
    "\n",
    "11. **Удаление специфичных символов и URL**: Удаление символов, не имеющих отношения к тексту, и URL-адресов.\n",
    "\n",
    "12. **Нормализация дат и времени**: Приведение дат и времени к стандартному формату.\n",
    "\n",
    "13. **Удаление символов регулярных выражений**: Удаление символов, соответствующих определенным шаблонам с использованием регулярных выражений.\n",
    "\n",
    "14. **Перевод символов в транслит**: Преобразование текста на одном языке в транслитерацию другого языка.\n",
    "\n",
    "Выбор конкретных методов нормализации зависит от задачи и требований проекта. Нормализация текста может быть важной частью предварительной обработки данных в NLP, чтобы улучшить качество анализа и моделирования."
   ]
  },
  {
   "cell_type": "code",
   "execution_count": null,
   "id": "f86a0192-508d-4e6f-8563-038080b02d53",
   "metadata": {},
   "outputs": [],
   "source": [
    "from nltk.stem import SnowballStemmer\n",
    "\n",
    "# Выберите язык для стеммера, например, русский\n",
    "stemmer = SnowballStemmer(\"russian\")\n",
    "\n",
    "word = \"бегу\"\n",
    "stemmed_word = stemmer.stem(word)\n",
    "print(stemmed_word)\n",
    "\n",
    "word = \"сижу\"\n",
    "stemmed_word = stemmer.stem(word)\n",
    "print(stemmed_word)"
   ]
  },
  {
   "cell_type": "code",
   "execution_count": null,
   "id": "d0a3a40d-decc-49f1-83c4-0f72298613ac",
   "metadata": {},
   "outputs": [],
   "source": [
    "import pymorphy3\n",
    "\n",
    "# Создайте объект лемматизатора для русского языка\n",
    "morph = pymorphy3.MorphAnalyzer()\n",
    "\n",
    "word = \"бегу\"\n",
    "lemma = morph.parse(word)[0].normal_form\n",
    "print(lemma)\n",
    "\n",
    "word = \"сижу\"\n",
    "lemma = morph.parse(word)[0].normal_form\n",
    "print(lemma)"
   ]
  }
 ],
 "metadata": {
  "kernelspec": {
   "display_name": "Python 3 (ipykernel)",
   "language": "python",
   "name": "python3"
  },
  "language_info": {
   "codemirror_mode": {
    "name": "ipython",
    "version": 3
   },
   "file_extension": ".py",
   "mimetype": "text/x-python",
   "name": "python",
   "nbconvert_exporter": "python",
   "pygments_lexer": "ipython3",
   "version": "3.12.5"
  }
 },
 "nbformat": 4,
 "nbformat_minor": 5
}
