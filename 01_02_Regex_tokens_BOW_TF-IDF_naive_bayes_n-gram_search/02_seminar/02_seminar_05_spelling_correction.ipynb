{
 "cells": [
  {
   "cell_type": "markdown",
   "id": "4e8e206e-195f-4c99-a742-f98f184a9c0a",
   "metadata": {},
   "source": [
    "# Исправление опечаток"
   ]
  },
  {
   "cell_type": "markdown",
   "id": "96fb290f-47e5-4ca8-9cd9-db16052796cf",
   "metadata": {},
   "source": [
    "Расстояние Левенштейна (также известное как редакционное расстояние или расстояние редактирования) - это метрика, используемая для измерения различия между двумя строками. Она измеряет минимальное количество редакционных операций (вставки, удаления и замены символов), необходимых для превращения одной строки в другую.\n",
    "\n",
    "Расстояние Левенштейна полезно в различных приложениях, включая исправление опечаток в тексте, сравнение строк в поисковых системах, определение сходства между текстами и многие другие. Это расстояние названо в честь советского математика Владимира Левенштейна, который разработал эту метрику в 1965 году.\n",
    "\n",
    "Пример расстояния Левенштейна между словами \"кот\" и \"кит\" выглядит следующим образом:\n",
    "\n",
    "```python\n",
    "Levenshtein.distance(\"кит\", \"кот\")\n",
    "```\n",
    "\n",
    "Таким образом, минимальное количество операций для превращения \"кот\" \"кит\" 1, что и является расстоянием Левенштейна между этими двумя словами.\n",
    "\n",
    "Это расстояние часто используется в алгоритмах автоматической коррекции опечаток, поисковых системах, а также в задачах сравнения текстов и вычисления сходства между ними.ду ними."
   ]
  },
  {
   "cell_type": "code",
   "execution_count": 1,
   "id": "ca42894e-55f7-448d-9475-73faaa13ad1f",
   "metadata": {},
   "outputs": [
    {
     "name": "stdout",
     "output_type": "stream",
     "text": [
      "Исходный текст: I likk ctas and bnanas\n",
      "Исправленный текст: I like cat and banana\n"
     ]
    }
   ],
   "source": [
    "import numpy as np\n",
    "import Levenshtein\n",
    "\n",
    "# Простой словарь\n",
    "dictionary = [\"cat\", \"dog\", \"fish\", \"bird\", \"apple\", \"banana\", \"cherry\", \"and\", \"like\", \"I\"]\n",
    "\n",
    "# Функция для нахождения ближайшего слова в словаре\n",
    "def find_closest_word(word, dictionary):\n",
    "    min_distance = float('inf')\n",
    "    closest_word = word\n",
    "\n",
    "    for dict_word in dictionary:\n",
    "        distance = Levenshtein.distance(word, dict_word)\n",
    "        if distance < min_distance:\n",
    "            min_distance = distance\n",
    "            closest_word = dict_word\n",
    "\n",
    "    return closest_word\n",
    "\n",
    "# Текст с опечатками\n",
    "text_with_typos = \"I likk ctas and bnanas\"\n",
    "\n",
    "# Разбиваем текст на слова\n",
    "words = text_with_typos.split()\n",
    "\n",
    "# Исправляем опечатки\n",
    "corrected_text = []\n",
    "for word in words:\n",
    "    closest_word = find_closest_word(word, dictionary)\n",
    "    corrected_text.append(closest_word)\n",
    "\n",
    "# Собираем исправленный текст обратно в строку\n",
    "corrected_text = \" \".join(corrected_text)\n",
    "\n",
    "print(\"Исходный текст:\", text_with_typos)\n",
    "print(\"Исправленный текст:\", corrected_text)"
   ]
  },
  {
   "cell_type": "code",
   "execution_count": null,
   "id": "da87f211-7e41-4dfb-9398-be74e64ed9b7",
   "metadata": {},
   "outputs": [],
   "source": []
  }
 ],
 "metadata": {
  "kernelspec": {
   "display_name": "Python 3 (ipykernel)",
   "language": "python",
   "name": "python3"
  },
  "language_info": {
   "codemirror_mode": {
    "name": "ipython",
    "version": 3
   },
   "file_extension": ".py",
   "mimetype": "text/x-python",
   "name": "python",
   "nbconvert_exporter": "python",
   "pygments_lexer": "ipython3",
   "version": "3.11.5"
  }
 },
 "nbformat": 4,
 "nbformat_minor": 5
}
